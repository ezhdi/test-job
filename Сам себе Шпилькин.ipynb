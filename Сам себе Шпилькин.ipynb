{
 "cells": [
  {
   "cell_type": "code",
   "execution_count": 1,
   "metadata": {},
   "outputs": [],
   "source": [
    "from bs4 import BeautifulSoup\n",
    "from fake_useragent import UserAgent\n",
    "import requests\n",
    "import re\n",
    "import pandas as pd\n",
    "import numpy as np"
   ]
  },
  {
   "cell_type": "code",
   "execution_count": 2,
   "metadata": {},
   "outputs": [],
   "source": [
    "kprf = 'КОММУНИСТИЧЕСКАЯ ПАРТИЯ РОССИЙСКОЙ ФЕДЕРАЦИИ'\n",
    "ik_link ='http://www.krasnodar.vybory.izbirkom.ru/region/krasnodar?action=ik&numik='\n",
    "\n",
    "# массивы для хранения результатов по участкам, в которых есть представитель КПРФ и где такого нет\n",
    "kprf_per = []\n",
    "no_kprf_per = []"
   ]
  },
  {
   "cell_type": "markdown",
   "metadata": {},
   "source": [
    "Не получилось спарсить данные по результатам на избирательных участках, поэтому сохранила их в xls файлы с порядковыми номерами по округам. Для каждого округа в файле нахожу список участков, смотрю на сайте состав избирательной комиссии по этому участку. Если представителей КПРФ нет, сохраняю номер участка в массив. Также записываю результаты по этому участку в один из массивов, в зависимости от этого. Вывожу список таких участков по округам в консоль"
   ]
  },
  {
   "cell_type": "code",
   "execution_count": 3,
   "metadata": {},
   "outputs": [
    {
     "name": "stdout",
     "output_type": "stream",
     "text": [
      "ОИО №1: 2004, 2007, 2094, 2096\n",
      "ОИО №2: 2018, 2099\n",
      "ОИО №3: 2021, 2034\n",
      "ОИО №4: 2026\n",
      "ОИО №5: \n",
      "ОИО №6: \n",
      "ОИО №7: \n",
      "ОИО №8: 2101\n",
      "ОИО №9: \n",
      "ОИО №10: \n",
      "ОИО №11: \n",
      "ОИО №12: \n",
      "ОИО №13: \n",
      "ОИО №14: \n",
      "ОИО №15: 2126\n",
      "ОИО №16: 2180\n",
      "ОИО №17: 2174\n",
      "ОИО №18: 2264\n",
      "ОИО №19: \n",
      "ОИО №20: \n",
      "ОИО №21: \n",
      "ОИО №22: 2239, 2266\n",
      "ОИО №23: 2299\n",
      "ОИО №24: 2263\n",
      "ОИО №25: \n",
      "ОИО №26: \n",
      "ОИО №27: 6011, 6012, 6013, 6056, 6057, 6058\n",
      "ОИО №28: 6049, 6055, 6099\n",
      "ОИО №29: 6036, 6037, 6054, 6065, 6066\n",
      "ОИО №30: 6031, 6052, 6060\n",
      "ОИО №31: 6034, 6053, 6097, 6098\n",
      "ОИО №32: 6021\n",
      "ОИО №33: 6063, 6064\n",
      "ОИО №34: 2393\n",
      "ОИО №35: 2394, 2397, 2398, 2399\n",
      "ОИО №36: \n",
      "ОИО №37: \n",
      "ОИО №38: 2395, 2396\n",
      "ОИО №39: \n"
     ]
    }
   ],
   "source": [
    "for i in range(1, 40):\n",
    "    file_name = 'report (' + str(i) + ').xls'\n",
    "    xl = pd.ExcelFile(file_name)\n",
    "    df1 = xl.parse('Лист1')\n",
    "    uik_nums = np.array([int(j.split('№')[1]) for j in df1.loc[6].values[3:]]) # номера всех участков этого округа\n",
    "    uik_per = np.array([float(i.split('%')[0]) for i in df1.loc[29].values[3:]]) # результаты по участкам\n",
    "    no_kprf_uik = []\n",
    "    \n",
    "    for uik in uik_nums:\n",
    "        page_link = ik_link + str(uik)\n",
    "        page_response = requests.get(page_link, timeout=15, headers={'User-Agent': UserAgent().chrome})\n",
    "        page_content = BeautifulSoup(page_response.content, \"html.parser\")\n",
    "        idx = list(uik_nums).index(uik)\n",
    "        if not(len(page_content.find_all('td', string=re.compile(kprf)))):\n",
    "            no_kprf_uik.append(uik)            \n",
    "            no_kprf_per.append(uik_per[idx])\n",
    "        else:\n",
    "            kprf_per.append(uik_per[idx])\n",
    "            \n",
    "            \n",
    "    print('ОИО №' + str(i) + ': ' + ', '.join(map(str, no_kprf_uik)))       "
   ]
  },
  {
   "cell_type": "markdown",
   "metadata": {},
   "source": [
    "Считаю среднее по получившимся массивам и дельту между средними. Вывожу в консоль"
   ]
  },
  {
   "cell_type": "code",
   "execution_count": 12,
   "metadata": {},
   "outputs": [
    {
     "name": "stdout",
     "output_type": "stream",
     "text": [
      "24.1, 17.02, 7.080000000000002\n"
     ]
    }
   ],
   "source": [
    "kprf_mean = round(np.array(kprf_per).mean(), 2)\n",
    "no_kprf_mean = round(np.array(no_kprf_per).mean(), 2)\n",
    "print(', '.join(map(str, [kprf_mean, no_kprf_mean, abs(kprf_mean - no_kprf_mean)])))"
   ]
  }
 ],
 "metadata": {
  "kernelspec": {
   "display_name": "Python 3",
   "language": "python",
   "name": "python3"
  },
  "language_info": {
   "codemirror_mode": {
    "name": "ipython",
    "version": 3
   },
   "file_extension": ".py",
   "mimetype": "text/x-python",
   "name": "python",
   "nbconvert_exporter": "python",
   "pygments_lexer": "ipython3",
   "version": "3.7.6"
  }
 },
 "nbformat": 4,
 "nbformat_minor": 4
}
